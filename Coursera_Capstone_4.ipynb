{
 "cells": [
  {
   "cell_type": "markdown",
   "metadata": {},
   "source": [
    "## Description of the problem\n",
    "\n",
    "A description of the problem and a discussion of the background.\n",
    "\n",
    "Our client, Donut Master Inc., is interested in establishing a strong presence in New York City. However, they have a limited number of locations which they can initially establish. In order to have the best possible locations, we will use Foursquare's location data to find the best 5 locations to establish a new Donut Shop. We shall use k-Means Clustering to classify the different neighborghoods into different 5 different categories and suggest  5 optimal locations to build the first shops of a new donut shop franshise.\n",
    "\n",
    "Our target audience would be C-suite level executives or managers who need to decide where the company should establish a physical presence. It is also directed at people interested in establishing a franchise in a city."
   ]
  },
  {
   "cell_type": "markdown",
   "metadata": {},
   "source": [
    "## Data\n",
    "\n",
    "We shall use the same data from Foursquare as the one generated for the New York notebook. For all the neighborghoods in New York City, we have the following information: The neighborhood name, the lattitude and longitude of the neighborhood, the venue's name, the venues latitude and longitude and the venue category.\n",
    "\n",
    "It has 10046 entries and 7 categories. In the next cell, we print the head and the tail of our dataset as an example of our data. From the data we can extract the types of venues nearby donut shops and other similar places. In that way we can classify neighborhoods according to the venues they contain. With the classification algorithms we shall give a score to each neighborhood which shows the best places to build a new donut shop.\n"
   ]
  },
  {
   "cell_type": "code",
   "execution_count": 15,
   "metadata": {},
   "outputs": [
    {
     "name": "stdout",
     "output_type": "stream",
     "text": [
      "Libraries imported.\n"
     ]
    }
   ],
   "source": [
    "import numpy as np # library to handle data in a vectorized manner\n",
    "\n",
    "import pandas as pd # library for data analsysis\n",
    "pd.set_option('display.max_columns', None)\n",
    "pd.set_option('display.max_rows', None)\n",
    "\n",
    "import json # library to handle JSON files\n",
    "\n",
    "#!conda install -c conda-forge geopy --yes # uncomment this line if you haven't completed the Foursquare API lab\n",
    "from geopy.geocoders import Nominatim # convert an address into latitude and longitude values\n",
    "\n",
    "import requests # library to handle requests\n",
    "from pandas.io.json import json_normalize # tranform JSON file into a pandas dataframe\n",
    "\n",
    "# Matplotlib and associated plotting modules\n",
    "import matplotlib.cm as cm\n",
    "import matplotlib.colors as colors\n",
    "\n",
    "# import k-means from clustering stage\n",
    "from sklearn.cluster import KMeans\n",
    "\n",
    "#!conda install -c conda-forge folium=0.5.0 --yes # uncomment this line if you haven't completed the Foursquare API lab\n",
    "import folium # map rendering library\n",
    "\n",
    "print('Libraries imported.')\n",
    "\n",
    "nyc_venues = pd.read_csv(\"coursera_db.csv\")"
   ]
  },
  {
   "cell_type": "code",
   "execution_count": 16,
   "metadata": {},
   "outputs": [],
   "source": [
    "def haversine_distance(lat1, lon1, lat2, lon2):\n",
    "   r = 6371\n",
    "   phi1 = np.radians(lat1)\n",
    "   phi2 = np.radians(lat2)\n",
    "   delta_phi = np.radians(lat2 - lat1)\n",
    "   delta_lambda = np.radians(lon2 - lon1)\n",
    "   a = np.sin(delta_phi / 2)**2 + np.cos(phi1) * np.cos(phi2) *   np.sin(delta_lambda / 2)**2\n",
    "   res = r * (2 * np.arctan2(np.sqrt(a), np.sqrt(1 - a)))\n",
    "   return np.round(res, 2)"
   ]
  },
  {
   "cell_type": "code",
   "execution_count": 17,
   "metadata": {},
   "outputs": [],
   "source": [
    "nyc_venues.head()\n",
    "y = pd.get_dummies(nyc_venues, columns = ['Venue Category'], prefix=\"VC\")"
   ]
  },
  {
   "cell_type": "code",
   "execution_count": 22,
   "metadata": {},
   "outputs": [],
   "source": [
    "venue_value = \"Donut Shop\"\n",
    "neighborhood_search = \"Wakefield\"\n",
    "radius = 100\n",
    "radius = radius/100\n",
    "nyc_sub = nyc_venues.loc[nyc_venues['Neighborhood'] == neighborhood_search]\n",
    "y_sub = y.loc[y['Neighborhood'] == neighborhood_search]\n",
    "\n",
    "n1 = y_sub.shape[0]\n",
    "\n",
    "if venue_value not in nyc_sub['Venue Category'].values:\n",
    "    print(\"There are no \" + venue_value + \" in \" + neighborhood_search + \".\")\n",
    "Y = nyc_sub[['Venue Category']].head(n1)\n",
    "\n"
   ]
  },
  {
   "cell_type": "code",
   "execution_count": 23,
   "metadata": {},
   "outputs": [],
   "source": [
    "venue_matrix  = list(list(0 for j in range(428)) for i in range(n1))\n",
    "\n",
    "for r in range(n1):\n",
    "    for r1 in range(r+1,n1):\n",
    "        lat1 = y_sub.loc[r][5]\n",
    "        lat2 = y_sub.loc[r1][5]\n",
    "        lon1 = y_sub.loc[r][6]\n",
    "        lon2 = y_sub.loc[r1][6]\n",
    "        h_dist = haversine_distance(lat1, lon1, lat2, lon2)\n",
    "        if h_dist <= radius:\n",
    "            for j in range(428):\n",
    "                venue_matrix[r][j] += y_sub.loc[r1][j+7]\n",
    "                venue_matrix[r1][j] += y_sub.loc[r][j+7]\n",
    "\n",
    "                "
   ]
  },
  {
   "cell_type": "code",
   "execution_count": 24,
   "metadata": {},
   "outputs": [],
   "source": [
    "X = pd.DataFrame(venue_matrix)\n",
    "\n",
    "\n",
    "from sklearn.model_selection import train_test_split\n",
    "X_train, X_test, y_train, y_test = train_test_split(X, np.ravel(Y), test_size = 0.2)\n",
    "from sklearn.neighbors import KNeighborsClassifier\n",
    "classifier = KNeighborsClassifier(n_neighbors = 3)\n",
    "classifier.fit(X, np.ravel(Y))\n",
    "\n",
    "y_pred = classifier.predict(X)"
   ]
  },
  {
   "cell_type": "code",
   "execution_count": 25,
   "metadata": {},
   "outputs": [
    {
     "name": "stdout",
     "output_type": "stream",
     "text": [
      "There are no suitable sites to convert into Donut Shop.\n"
     ]
    }
   ],
   "source": [
    "swap_list = list()\n",
    "venue_list = np.ravel(Y)\n",
    "\n",
    "for i in range(n1):\n",
    "    if y_pred[i] == venue_value and venue_list[i] != venue_value:\n",
    "        swap_list.append(i)\n",
    "        \n",
    "if len(swap_list) == 0:\n",
    "    print(\"There are no suitable sites to convert into \" +  venue_value + \".\")\n",
    "else:\n",
    "    print(\"We suggest to convert the following venues into \" + venue_value + \".\")\n",
    "    for i in swap_list:\n",
    "        print(nyc_sub.iloc[i])"
   ]
  },
  {
   "cell_type": "code",
   "execution_count": null,
   "metadata": {},
   "outputs": [],
   "source": []
  },
  {
   "cell_type": "code",
   "execution_count": 83,
   "metadata": {},
   "outputs": [],
   "source": []
  },
  {
   "cell_type": "code",
   "execution_count": 90,
   "metadata": {},
   "outputs": [],
   "source": []
  },
  {
   "cell_type": "code",
   "execution_count": 91,
   "metadata": {},
   "outputs": [
    {
     "data": {
      "text/plain": [
       "array(['Dessert Shop', 'Pharmacy', 'Pharmacy', 'Donut Shop',\n",
       "       'Dessert Shop', 'Donut Shop', 'Donut Shop', 'Pharmacy',\n",
       "       'Dessert Shop'], dtype=object)"
      ]
     },
     "execution_count": 91,
     "metadata": {},
     "output_type": "execute_result"
    }
   ],
   "source": []
  },
  {
   "cell_type": "code",
   "execution_count": 93,
   "metadata": {},
   "outputs": [
    {
     "data": {
      "text/plain": [
       "array(['Dessert Shop', 'Pharmacy', 'Pharmacy', 'Ice Cream Shop',\n",
       "       'Gas Station', 'Donut Shop', 'Sandwich Place', 'Deli / Bodega',\n",
       "       'Laundromat'], dtype=object)"
      ]
     },
     "execution_count": 93,
     "metadata": {},
     "output_type": "execute_result"
    }
   ],
   "source": []
  },
  {
   "cell_type": "code",
   "execution_count": 61,
   "metadata": {},
   "outputs": [],
   "source": []
  },
  {
   "cell_type": "code",
   "execution_count": 62,
   "metadata": {},
   "outputs": [],
   "source": []
  },
  {
   "cell_type": "code",
   "execution_count": null,
   "metadata": {},
   "outputs": [],
   "source": []
  },
  {
   "cell_type": "code",
   "execution_count": null,
   "metadata": {},
   "outputs": [],
   "source": []
  },
  {
   "cell_type": "code",
   "execution_count": null,
   "metadata": {},
   "outputs": [],
   "source": []
  },
  {
   "cell_type": "code",
   "execution_count": null,
   "metadata": {
    "scrolled": true
   },
   "outputs": [],
   "source": []
  },
  {
   "cell_type": "code",
   "execution_count": null,
   "metadata": {
    "scrolled": true
   },
   "outputs": [],
   "source": []
  },
  {
   "cell_type": "code",
   "execution_count": null,
   "metadata": {},
   "outputs": [],
   "source": []
  },
  {
   "cell_type": "code",
   "execution_count": null,
   "metadata": {},
   "outputs": [],
   "source": []
  },
  {
   "cell_type": "code",
   "execution_count": null,
   "metadata": {},
   "outputs": [],
   "source": []
  },
  {
   "cell_type": "code",
   "execution_count": null,
   "metadata": {},
   "outputs": [],
   "source": []
  },
  {
   "cell_type": "code",
   "execution_count": null,
   "metadata": {},
   "outputs": [],
   "source": []
  },
  {
   "cell_type": "code",
   "execution_count": 14,
   "metadata": {
    "scrolled": true
   },
   "outputs": [
    {
     "ename": "NameError",
     "evalue": "name 'getNearbyVenues' is not defined",
     "output_type": "error",
     "traceback": [
      "\u001b[1;31m---------------------------------------------------------------------------\u001b[0m",
      "\u001b[1;31mNameError\u001b[0m                                 Traceback (most recent call last)",
      "\u001b[1;32m<ipython-input-14-9e957bf5eb70>\u001b[0m in \u001b[0;36m<module>\u001b[1;34m\u001b[0m\n\u001b[0;32m      1\u001b[0m \u001b[1;31m# type your answer here\u001b[0m\u001b[1;33m\u001b[0m\u001b[1;33m\u001b[0m\u001b[1;33m\u001b[0m\u001b[0m\n\u001b[0;32m      2\u001b[0m \u001b[1;33m\u001b[0m\u001b[0m\n\u001b[1;32m----> 3\u001b[1;33m nyc_venues = getNearbyVenues(names=neighborhoods['Neighborhood'],\n\u001b[0m\u001b[0;32m      4\u001b[0m                                    \u001b[0mlatitudes\u001b[0m\u001b[1;33m=\u001b[0m\u001b[0mneighborhoods\u001b[0m\u001b[1;33m[\u001b[0m\u001b[1;34m'Latitude'\u001b[0m\u001b[1;33m]\u001b[0m\u001b[1;33m,\u001b[0m\u001b[1;33m\u001b[0m\u001b[1;33m\u001b[0m\u001b[0m\n\u001b[0;32m      5\u001b[0m                                    \u001b[0mlongitudes\u001b[0m\u001b[1;33m=\u001b[0m\u001b[0mneighborhoods\u001b[0m\u001b[1;33m[\u001b[0m\u001b[1;34m'Longitude'\u001b[0m\u001b[1;33m]\u001b[0m\u001b[1;33m\u001b[0m\u001b[1;33m\u001b[0m\u001b[0m\n",
      "\u001b[1;31mNameError\u001b[0m: name 'getNearbyVenues' is not defined"
     ]
    }
   ],
   "source": [
    "# type your answer here\n",
    "\n",
    "nyc_venues = getNearbyVenues(names=neighborhoods['Neighborhood'],\n",
    "                                   latitudes=neighborhoods['Latitude'],\n",
    "                                   longitudes=neighborhoods['Longitude']\n",
    "                                  )\n",
    "\n"
   ]
  },
  {
   "cell_type": "code",
   "execution_count": null,
   "metadata": {},
   "outputs": [],
   "source": []
  },
  {
   "cell_type": "code",
   "execution_count": null,
   "metadata": {},
   "outputs": [],
   "source": []
  },
  {
   "cell_type": "code",
   "execution_count": 13,
   "metadata": {},
   "outputs": [],
   "source": []
  },
  {
   "cell_type": "code",
   "execution_count": null,
   "metadata": {},
   "outputs": [],
   "source": []
  },
  {
   "cell_type": "markdown",
   "metadata": {},
   "source": [
    "<a id='item3'></a>"
   ]
  },
  {
   "cell_type": "markdown",
   "metadata": {},
   "source": [
    "<a id='item4'></a>"
   ]
  },
  {
   "cell_type": "markdown",
   "metadata": {},
   "source": [
    "<a id='item5'></a>"
   ]
  }
 ],
 "metadata": {
  "kernelspec": {
   "display_name": "Python 3",
   "language": "python",
   "name": "python3"
  },
  "language_info": {
   "codemirror_mode": {
    "name": "ipython",
    "version": 3
   },
   "file_extension": ".py",
   "mimetype": "text/x-python",
   "name": "python",
   "nbconvert_exporter": "python",
   "pygments_lexer": "ipython3",
   "version": "3.7.6"
  },
  "widgets": {
   "state": {},
   "version": "1.1.2"
  }
 },
 "nbformat": 4,
 "nbformat_minor": 2
}
